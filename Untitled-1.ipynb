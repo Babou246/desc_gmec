{
 "cells": [
  {
   "cell_type": "code",
   "execution_count": null,
   "metadata": {},
   "outputs": [],
   "source": [
    "\n",
    "# noms_abreges = ['CDS_Amadou', 'ISGTR_MamadouLamine', 'ISCL_Safietou', 'ISCL_NdeyeMarie', 'ISCL_NdeyeMarie']\n",
    "\n",
    "#     # Effectuer la requête pour récupérer les emails correspondants\n",
    "#     emails = NomTable.query.filter(NomTable.nom_abrege.in_(noms_abreges)).all()"
   ]
  },
  {
   "cell_type": "code",
   "execution_count": 1,
   "metadata": {},
   "outputs": [
    {
     "data": {
      "text/plain": [
       "2"
      ]
     },
     "execution_count": 1,
     "metadata": {},
     "output_type": "execute_result"
    }
   ],
   "source": [
    "import os\n",
    "import random\n",
    "import pandas as pd\n",
    "\n",
    "random.randint(2,6)"
   ]
  },
  {
   "cell_type": "code",
   "execution_count": 2,
   "metadata": {},
   "outputs": [
    {
     "data": {
      "text/plain": [
       "5545"
      ]
     },
     "execution_count": 2,
     "metadata": {},
     "output_type": "execute_result"
    }
   ],
   "source": [
    "random.getrandbits(14)"
   ]
  },
  {
   "cell_type": "code",
   "execution_count": 3,
   "metadata": {},
   "outputs": [],
   "source": [
    "import smtplib"
   ]
  },
  {
   "cell_type": "code",
   "execution_count": 4,
   "metadata": {},
   "outputs": [],
   "source": [
    "server = smtplib.SMTP_SSL('smtp.gmail.com',465)\n"
   ]
  },
  {
   "cell_type": "code",
   "execution_count": 5,
   "metadata": {},
   "outputs": [],
   "source": [
    "df=pd.read_excel('uploads/ECHANT_CTR_2023-05.xlsx').head(3)"
   ]
  },
  {
   "cell_type": "code",
   "execution_count": 6,
   "metadata": {},
   "outputs": [
    {
     "name": "stdout",
     "output_type": "stream",
     "text": [
      "True\n",
      "True\n",
      "True\n"
     ]
    }
   ],
   "source": [
    "for index, row in df.iterrows():\n",
    "    print(pd.notnull(row['Date de résolution maximum']) or isinstance(row['Date de résolution maximum'], pd.Timestamp))"
   ]
  },
  {
   "cell_type": "code",
   "execution_count": 7,
   "metadata": {},
   "outputs": [
    {
     "data": {
      "text/plain": [
       "'/home/dev/desc/files_rejet'"
      ]
     },
     "execution_count": 7,
     "metadata": {},
     "output_type": "execute_result"
    }
   ],
   "source": [
    "os.path.join(os.getcwd(),'files_rejet')"
   ]
  },
  {
   "cell_type": "code",
   "execution_count": 9,
   "metadata": {},
   "outputs": [
    {
     "name": "stdout",
     "output_type": "stream",
     "text": [
      "0             CDS_Amadou\n",
      "1    ISGTR_MamadouLamine\n",
      "2          ISCL_Safietou\n",
      "3        ISCL_NdeyeMarie\n",
      "4        ISCL_NdeyeMarie\n",
      "Name: XX_AGENT_RESPONSABLE, dtype: object\n"
     ]
    }
   ],
   "source": [
    "import os\n",
    "import glob\n",
    "import pandas as pd\n",
    "\n",
    "folder_path = os.path.join(os.getcwd(), 'files_rejet')\n",
    "\n",
    "# Obtenir la liste des fichiers dans le répertoire triés par date de modification\n",
    "file_list = glob.glob(os.path.join(folder_path, 'rejected_records_*.csv'))\n",
    "file_list.sort(key=os.path.getmtime)\n",
    "\n",
    "# Sélectionner le dernier fichier dans la liste\n",
    "latest_file = file_list[-1]\n",
    "\n",
    "# Charger le fichier avec pandas pour le traitement\n",
    "df = pd.read_csv(latest_file)\n",
    "\n",
    "print(df['XX_AGENT_RESPONSABLE'].head())\n"
   ]
  },
  {
   "cell_type": "code",
   "execution_count": 10,
   "metadata": {},
   "outputs": [],
   "source": [
    "data = pd.read_csv(latest_file)\n",
    "noms_abreges = data['XX_AGENT_RESPONSABLE'].tolist()\n"
   ]
  },
  {
   "cell_type": "code",
   "execution_count": 14,
   "metadata": {},
   "outputs": [
    {
     "data": {
      "text/plain": [
       "['CDS_MarieRosine',\n",
       " 'CDS_Seyni',\n",
       " 'ISGRC_Alassane',\n",
       " 'ISFAC_Talibouya',\n",
       " 'ISGTR_MamadouLamine',\n",
       " 'ISDC_Sadibou',\n",
       " 'ISCL_Maty',\n",
       " 'CDS_Amadou',\n",
       " 'ISCL_Safietou',\n",
       " 'CDS_Raqui',\n",
       " 'CDS_Fernande',\n",
       " 'CDS_Herve',\n",
       " 'ISCL_MameAwa',\n",
       " 'CDS_Safietou',\n",
       " 'ISFAC_Chems',\n",
       " 'ISCL_Ibrahima',\n",
       " 'CDS_Dieynaba',\n",
       " 'ISREC_Ababacar',\n",
       " 'ISCL_NdeyeMarie',\n",
       " 'ISCC_Aminata',\n",
       " 'ISDC_MamadouLamine']"
      ]
     },
     "execution_count": 14,
     "metadata": {},
     "output_type": "execute_result"
    }
   ],
   "source": [
    "noms_abreges = list(set(noms_abreges))\n",
    "noms_abreges"
   ]
  },
  {
   "cell_type": "code",
   "execution_count": null,
   "metadata": {},
   "outputs": [],
   "source": [
    "['CDS_MarieRosine','CDS_Seyni','ISGRC_Alassane','ISFAC_Talibouya','ISGTR_MamadouLamine','ISDC_Sadibou','ISCL_Maty','CDS_Amadou','ISCL_Safietou','CDS_Raqui','CDS_Fernande','CDS_Herve','ISCL_MameAwa','CDS_Safietou','ISFAC_Chems','ISCL_Ibrahima','CDS_Dieynaba','ISREC_Ababacar','ISCL_NdeyeMarie','ISCC_Aminata','ISDC_MamadouLamine']"
   ]
  },
  {
   "cell_type": "code",
   "execution_count": 16,
   "metadata": {},
   "outputs": [
    {
     "data": {
      "text/plain": [
       "'safietou'"
      ]
     },
     "execution_count": 16,
     "metadata": {},
     "output_type": "execute_result"
    }
   ],
   "source": [
    "['safietou.ndiaye@sonatel-orange.com'][0].split('@')[0].split('.')[0]"
   ]
  },
  {
   "cell_type": "code",
   "execution_count": null,
   "metadata": {},
   "outputs": [],
   "source": []
  }
 ],
 "metadata": {
  "kernelspec": {
   "display_name": "env",
   "language": "python",
   "name": "python3"
  },
  "language_info": {
   "codemirror_mode": {
    "name": "ipython",
    "version": 3
   },
   "file_extension": ".py",
   "mimetype": "text/x-python",
   "name": "python",
   "nbconvert_exporter": "python",
   "pygments_lexer": "ipython3",
   "version": "3.10.6"
  },
  "orig_nbformat": 4
 },
 "nbformat": 4,
 "nbformat_minor": 2
}
